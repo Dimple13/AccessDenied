{
  "nbformat": 4,
  "nbformat_minor": 0,
  "metadata": {
    "colab": {
      "name": "attresion ki copy.ipynb",
      "provenance": []
    },
    "kernelspec": {
      "name": "python3",
      "display_name": "Python 3"
    },
    "language_info": {
      "name": "python"
    }
  },
  "cells": [
    {
      "cell_type": "code",
      "metadata": {
        "id": "Q5VDImLb8jE1"
      },
      "source": [
        "import pandas as pd\n",
        "import numpy as np\n",
        "from sklearn import preprocessing\n",
        "from google.colab import files\n",
        "import io  \n",
        "from sklearn.ensemble import ExtraTreesClassifier\n",
        "import matplotlib.pyplot as plt\n",
        "import seaborn as sns\n",
        "from sklearn.model_selection import train_test_split\n",
        "from sklearn.metrics import accuracy_score\n",
        "from sklearn.ensemble import RandomForestRegressor "
      ],
      "execution_count": null,
      "outputs": []
    },
    {
      "cell_type": "code",
      "metadata": {
        "id": "QlWqOqXj8oRw"
      },
      "source": [
        "df = pd.read_csv('train.csv')"
      ],
      "execution_count": null,
      "outputs": []
    },
    {
      "cell_type": "code",
      "metadata": {
        "colab": {
          "base_uri": "https://localhost:8080/"
        },
        "id": "9gtZj2X38okD",
        "outputId": "ce8c4605-20e0-434b-eff3-1c705665868e"
      },
      "source": [
        "\n",
        "print(df)"
      ],
      "execution_count": null,
      "outputs": [
        {
          "output_type": "stream",
          "text": [
            "        ID   Age  ... Attrition  YearsAtCompany\n",
            "0        1  44.0  ...         1              20\n",
            "1        2  25.0  ...         0               6\n",
            "2        3  57.0  ...         0               1\n",
            "3        4  47.0  ...         0              17\n",
            "4        5  22.0  ...         1               1\n",
            "...    ...   ...  ...       ...             ...\n",
            "1225  1226  29.0  ...         1               7\n",
            "1226  1227  41.0  ...         0              20\n",
            "1227  1228  36.0  ...         1               2\n",
            "1228  1229  23.0  ...         0               3\n",
            "1229  1230  31.0  ...         1              10\n",
            "\n",
            "[1230 rows x 44 columns]\n"
          ],
          "name": "stdout"
        }
      ]
    },
    {
      "cell_type": "code",
      "metadata": {
        "id": "NC6D1iUq8xND"
      },
      "source": [
        "a=df.iloc[:,2]\n",
        "b=df.iloc[:,4]\n",
        "c=df.iloc[:,6]\n",
        "d=df.iloc[:,10]\n",
        "e=df.iloc[:,12]\n",
        "f=df.iloc[:,16]\n",
        "g=df.iloc[:,17]\n",
        "h=df.iloc[:,32]\n",
        "le = preprocessing.LabelEncoder()\n",
        "label1=le.fit_transform(a)\n",
        "label2=le.fit_transform(b)\n",
        "label3=le.fit_transform(c)\n",
        "label4=le.fit_transform(d)\n",
        "label5=le.fit_transform(e)\n",
        "label6=le.fit_transform(f)\n",
        "label7=le.fit_transform(g)\n",
        "label8=le.fit_transform(h)\n",
        "label9=df['Attrition']\n",
        "label10=df['YearsAtCompany']"
      ],
      "execution_count": null,
      "outputs": []
    },
    {
      "cell_type": "code",
      "metadata": {
        "id": "a2P9Ns-784Bv"
      },
      "source": [
        "df['Travel']=label1\n",
        "df['Dept']=label2\n",
        "df['Gend']=label3\n",
        "df['Role']=label4\n",
        "df['Status']=label5\n",
        "df['Above18']=label6\n",
        "df['Time']=label7\n",
        "df['EducationFieldNew']=label8\n",
        "del df['BusinessTravel']\n",
        "del df['Department']\n",
        "del df['Gender']\n",
        "del df['JobRole']\n",
        "del df['MaritalStatus']\n",
        "del df['Over18']\n",
        "del df['OverTime']\n",
        "del df['EducationField']\n",
        "del df['YearsAtCompany']\n",
        "del df['Attrition']\n",
        "df['Attrition']=label9\n",
        "df['YearsAtCompany']=label10"
      ],
      "execution_count": null,
      "outputs": []
    },
    {
      "cell_type": "code",
      "metadata": {
        "id": "t4vfaFp584Xm"
      },
      "source": [
        "df=df.dropna()"
      ],
      "execution_count": null,
      "outputs": []
    },
    {
      "cell_type": "code",
      "metadata": {
        "colab": {
          "base_uri": "https://localhost:8080/"
        },
        "id": "1KiweFtY873m",
        "outputId": "19a7813d-85d7-49a4-9c80-8dc9c52fbe2c"
      },
      "source": [
        "dfnew = pd.DataFrame() \n",
        "print(dfnew)"
      ],
      "execution_count": null,
      "outputs": [
        {
          "output_type": "stream",
          "text": [
            "Empty DataFrame\n",
            "Columns: []\n",
            "Index: []\n"
          ],
          "name": "stdout"
        }
      ]
    },
    {
      "cell_type": "code",
      "metadata": {
        "id": "BnhEioL18-wJ"
      },
      "source": [
        "dfnew['MonthlyIncome']=df['MonthlyIncome']\n",
        "dfnew['Age']=df['Age']\n",
        "dfnew['DistanceFromHome']=df['DistanceFromHome']\n",
        "dfnew['TotalWorkingYears']=df['TotalWorkingYears']\n",
        "dfnew['YearsInCurrentRole']=df['YearsInCurrentRole']\n",
        "dfnew['EnvironmentSatisfaction']=df['EnvironmentSatisfaction']\n",
        "dfnew['StockOptionLevel']=df['StockOptionLevel']\n",
        "dfnew['PercentSalaryHike']=df['PercentSalaryHike']\n",
        "dfnew['Attrition']=df['Attrition']"
      ],
      "execution_count": null,
      "outputs": []
    },
    {
      "cell_type": "code",
      "metadata": {
        "colab": {
          "base_uri": "https://localhost:8080/",
          "height": 399
        },
        "id": "jgIao75n_A7t",
        "outputId": "183638f1-5f80-46b5-ade9-cb59e4bf9f9e"
      },
      "source": [
        "dfnew"
      ],
      "execution_count": null,
      "outputs": [
        {
          "output_type": "execute_result",
          "data": {
            "text/html": [
              "<div>\n",
              "<style scoped>\n",
              "    .dataframe tbody tr th:only-of-type {\n",
              "        vertical-align: middle;\n",
              "    }\n",
              "\n",
              "    .dataframe tbody tr th {\n",
              "        vertical-align: top;\n",
              "    }\n",
              "\n",
              "    .dataframe thead th {\n",
              "        text-align: right;\n",
              "    }\n",
              "</style>\n",
              "<table border=\"1\" class=\"dataframe\">\n",
              "  <thead>\n",
              "    <tr style=\"text-align: right;\">\n",
              "      <th></th>\n",
              "      <th>MonthlyIncome</th>\n",
              "      <th>Age</th>\n",
              "      <th>DistanceFromHome</th>\n",
              "      <th>TotalWorkingYears</th>\n",
              "      <th>YearsInCurrentRole</th>\n",
              "      <th>EnvironmentSatisfaction</th>\n",
              "      <th>StockOptionLevel</th>\n",
              "      <th>PercentSalaryHike</th>\n",
              "      <th>Attrition</th>\n",
              "    </tr>\n",
              "  </thead>\n",
              "  <tbody>\n",
              "    <tr>\n",
              "      <th>0</th>\n",
              "      <td>10482</td>\n",
              "      <td>44.0</td>\n",
              "      <td>1</td>\n",
              "      <td>24.0</td>\n",
              "      <td>6</td>\n",
              "      <td>2.0</td>\n",
              "      <td>1</td>\n",
              "      <td>14.0</td>\n",
              "      <td>1</td>\n",
              "    </tr>\n",
              "    <tr>\n",
              "      <th>1</th>\n",
              "      <td>4000</td>\n",
              "      <td>25.0</td>\n",
              "      <td>5</td>\n",
              "      <td>6.0</td>\n",
              "      <td>3</td>\n",
              "      <td>2.0</td>\n",
              "      <td>2</td>\n",
              "      <td>12.0</td>\n",
              "      <td>0</td>\n",
              "    </tr>\n",
              "    <tr>\n",
              "      <th>2</th>\n",
              "      <td>14118</td>\n",
              "      <td>57.0</td>\n",
              "      <td>29</td>\n",
              "      <td>32.0</td>\n",
              "      <td>0</td>\n",
              "      <td>1.0</td>\n",
              "      <td>1</td>\n",
              "      <td>12.0</td>\n",
              "      <td>0</td>\n",
              "    </tr>\n",
              "    <tr>\n",
              "      <th>3</th>\n",
              "      <td>8633</td>\n",
              "      <td>47.0</td>\n",
              "      <td>25</td>\n",
              "      <td>25.0</td>\n",
              "      <td>14</td>\n",
              "      <td>1.0</td>\n",
              "      <td>0</td>\n",
              "      <td>23.0</td>\n",
              "      <td>0</td>\n",
              "    </tr>\n",
              "    <tr>\n",
              "      <th>4</th>\n",
              "      <td>2472</td>\n",
              "      <td>22.0</td>\n",
              "      <td>7</td>\n",
              "      <td>1.0</td>\n",
              "      <td>0</td>\n",
              "      <td>4.0</td>\n",
              "      <td>0</td>\n",
              "      <td>23.0</td>\n",
              "      <td>1</td>\n",
              "    </tr>\n",
              "    <tr>\n",
              "      <th>...</th>\n",
              "      <td>...</td>\n",
              "      <td>...</td>\n",
              "      <td>...</td>\n",
              "      <td>...</td>\n",
              "      <td>...</td>\n",
              "      <td>...</td>\n",
              "      <td>...</td>\n",
              "      <td>...</td>\n",
              "      <td>...</td>\n",
              "    </tr>\n",
              "    <tr>\n",
              "      <th>1225</th>\n",
              "      <td>3339</td>\n",
              "      <td>29.0</td>\n",
              "      <td>7</td>\n",
              "      <td>10.0</td>\n",
              "      <td>7</td>\n",
              "      <td>2.0</td>\n",
              "      <td>2</td>\n",
              "      <td>13.0</td>\n",
              "      <td>1</td>\n",
              "    </tr>\n",
              "    <tr>\n",
              "      <th>1226</th>\n",
              "      <td>13570</td>\n",
              "      <td>41.0</td>\n",
              "      <td>28</td>\n",
              "      <td>21.0</td>\n",
              "      <td>7</td>\n",
              "      <td>1.0</td>\n",
              "      <td>1</td>\n",
              "      <td>23.0</td>\n",
              "      <td>0</td>\n",
              "    </tr>\n",
              "    <tr>\n",
              "      <th>1227</th>\n",
              "      <td>6134</td>\n",
              "      <td>36.0</td>\n",
              "      <td>13</td>\n",
              "      <td>16.0</td>\n",
              "      <td>2</td>\n",
              "      <td>2.0</td>\n",
              "      <td>3</td>\n",
              "      <td>13.0</td>\n",
              "      <td>1</td>\n",
              "    </tr>\n",
              "    <tr>\n",
              "      <th>1228</th>\n",
              "      <td>2819</td>\n",
              "      <td>23.0</td>\n",
              "      <td>4</td>\n",
              "      <td>5.0</td>\n",
              "      <td>2</td>\n",
              "      <td>1.0</td>\n",
              "      <td>1</td>\n",
              "      <td>16.0</td>\n",
              "      <td>0</td>\n",
              "    </tr>\n",
              "    <tr>\n",
              "      <th>1229</th>\n",
              "      <td>5617</td>\n",
              "      <td>31.0</td>\n",
              "      <td>26</td>\n",
              "      <td>10.0</td>\n",
              "      <td>7</td>\n",
              "      <td>1.0</td>\n",
              "      <td>0</td>\n",
              "      <td>11.0</td>\n",
              "      <td>1</td>\n",
              "    </tr>\n",
              "  </tbody>\n",
              "</table>\n",
              "<p>1213 rows × 9 columns</p>\n",
              "</div>"
            ],
            "text/plain": [
              "      MonthlyIncome   Age  ...  PercentSalaryHike  Attrition\n",
              "0             10482  44.0  ...               14.0          1\n",
              "1              4000  25.0  ...               12.0          0\n",
              "2             14118  57.0  ...               12.0          0\n",
              "3              8633  47.0  ...               23.0          0\n",
              "4              2472  22.0  ...               23.0          1\n",
              "...             ...   ...  ...                ...        ...\n",
              "1225           3339  29.0  ...               13.0          1\n",
              "1226          13570  41.0  ...               23.0          0\n",
              "1227           6134  36.0  ...               13.0          1\n",
              "1228           2819  23.0  ...               16.0          0\n",
              "1229           5617  31.0  ...               11.0          1\n",
              "\n",
              "[1213 rows x 9 columns]"
            ]
          },
          "metadata": {
            "tags": []
          },
          "execution_count": 9
        }
      ]
    },
    {
      "cell_type": "code",
      "metadata": {
        "id": "a3q9WOMI9AQS"
      },
      "source": [
        "X = dfnew.iloc[:,0:8].values\n",
        "y = dfnew.iloc[:,-1].values"
      ],
      "execution_count": null,
      "outputs": []
    },
    {
      "cell_type": "code",
      "metadata": {
        "colab": {
          "base_uri": "https://localhost:8080/"
        },
        "id": "ay2S1ow-9CGZ",
        "outputId": "acecc461-60c4-4356-bf1e-9546f28cc156"
      },
      "source": [
        "from sklearn.linear_model import LinearRegression\n",
        "model = LinearRegression(fit_intercept=True, normalize=False, copy_X=True, n_jobs=None)\n",
        "model.fit(X, y)"
      ],
      "execution_count": null,
      "outputs": [
        {
          "output_type": "execute_result",
          "data": {
            "text/plain": [
              "LinearRegression(copy_X=True, fit_intercept=True, n_jobs=None, normalize=False)"
            ]
          },
          "metadata": {
            "tags": []
          },
          "execution_count": 12
        }
      ]
    },
    {
      "cell_type": "code",
      "metadata": {
        "id": "9UgobmVKo5QA"
      },
      "source": [
        ""
      ],
      "execution_count": null,
      "outputs": []
    },
    {
      "cell_type": "code",
      "metadata": {
        "id": "enggQYwL9HTc"
      },
      "source": [
        "df = pd.read_csv('test.csv')"
      ],
      "execution_count": null,
      "outputs": []
    },
    {
      "cell_type": "code",
      "metadata": {
        "colab": {
          "base_uri": "https://localhost:8080/"
        },
        "id": "7jmGfYN39JQ5",
        "outputId": "16532ff3-733f-4041-b193-849cc206921c"
      },
      "source": [
        "print(df)"
      ],
      "execution_count": null,
      "outputs": [
        {
          "output_type": "stream",
          "text": [
            "      ID  Age  ... FormalWarnings  ProjectsContributed\n",
            "0      1   27  ...              0                 14.0\n",
            "1      2   26  ...              0                 30.0\n",
            "2      3   50  ...              0                  3.0\n",
            "3      4   41  ...              0                 11.0\n",
            "4      5   28  ...              0                 10.0\n",
            "..   ...  ...  ...            ...                  ...\n",
            "235  236   59  ...              0                 16.0\n",
            "236  237   37  ...              0                 13.0\n",
            "237  238   37  ...              0                 10.0\n",
            "238  239   44  ...              0                  7.0\n",
            "239  240   28  ...              0                 28.0\n",
            "\n",
            "[240 rows x 42 columns]\n"
          ],
          "name": "stdout"
        }
      ]
    },
    {
      "cell_type": "code",
      "metadata": {
        "id": "oFO2nUbJ9NG9"
      },
      "source": [
        "a=df.iloc[:,2]\n",
        "b=df.iloc[:,4]\n",
        "c=df.iloc[:,6]\n",
        "d=df.iloc[:,10]\n",
        "e=df.iloc[:,12]\n",
        "f=df.iloc[:,16]\n",
        "g=df.iloc[:,17]\n",
        "h=df.iloc[:,32]\n",
        "le = preprocessing.LabelEncoder()\n",
        "label1=le.fit_transform(a)\n",
        "label2=le.fit_transform(b)\n",
        "label3=le.fit_transform(c)\n",
        "label4=le.fit_transform(d)\n",
        "label5=le.fit_transform(e)\n",
        "label6=le.fit_transform(f)\n",
        "label7=le.fit_transform(g)\n",
        "label8=le.fit_transform(h)"
      ],
      "execution_count": null,
      "outputs": []
    },
    {
      "cell_type": "code",
      "metadata": {
        "id": "OIGib0P59Pup"
      },
      "source": [
        "df['Travel']=label1\n",
        "df['Dept']=label2\n",
        "df['Gend']=label3\n",
        "df['Role']=label4\n",
        "df['Status']=label5\n",
        "df['Above18']=label6\n",
        "df['Time']=label7\n",
        "df['EducationFieldNew']=label8\n",
        "del df['BusinessTravel']\n",
        "del df['Department']\n",
        "del df['Gender']\n",
        "del df['JobRole']\n",
        "del df['MaritalStatus']\n",
        "del df['Over18']\n",
        "del df['OverTime']\n",
        "del df['EducationField']"
      ],
      "execution_count": null,
      "outputs": []
    },
    {
      "cell_type": "code",
      "metadata": {
        "id": "WpXH44sG9R5K"
      },
      "source": [
        "df=df.fillna(0)"
      ],
      "execution_count": null,
      "outputs": []
    },
    {
      "cell_type": "code",
      "metadata": {
        "colab": {
          "base_uri": "https://localhost:8080/"
        },
        "id": "ndtQMxMw9Too",
        "outputId": "c59f9c8a-f848-4c3e-cf1f-0fb8089ceb80"
      },
      "source": [
        "dfnew = pd.DataFrame() \n",
        "print(dfnew)"
      ],
      "execution_count": null,
      "outputs": [
        {
          "output_type": "stream",
          "text": [
            "Empty DataFrame\n",
            "Columns: []\n",
            "Index: []\n"
          ],
          "name": "stdout"
        }
      ]
    },
    {
      "cell_type": "code",
      "metadata": {
        "id": "xGkBJplr9Yvd"
      },
      "source": [
        "dfnew['MonthlyIncome']=df['MonthlyIncome']\n",
        "dfnew['Age']=df['Age']\n",
        "dfnew['DistanceFromHome']=df['DistanceFromHome']\n",
        "dfnew['TotalWorkingYears']=df['TotalWorkingYears']\n",
        "dfnew['YearsInCurrentRole']=df['YearsInCurrentRole']\n",
        "dfnew['EnvironmentSatisfaction']=df['EnvironmentSatisfaction']\n",
        "dfnew['StockOptionLevel']=df['StockOptionLevel']\n",
        "dfnew['PercentSalaryHike']=df['PercentSalaryHike']"
      ],
      "execution_count": null,
      "outputs": []
    },
    {
      "cell_type": "code",
      "metadata": {
        "colab": {
          "base_uri": "https://localhost:8080/",
          "height": 399
        },
        "id": "aHPKkDTk9jGm",
        "outputId": "3ecef128-370b-44c9-d941-1265b9f04142"
      },
      "source": [
        "Xnew = dfnew.iloc[:,:].values\n",
        "dfnew"
      ],
      "execution_count": null,
      "outputs": [
        {
          "output_type": "execute_result",
          "data": {
            "text/html": [
              "<div>\n",
              "<style scoped>\n",
              "    .dataframe tbody tr th:only-of-type {\n",
              "        vertical-align: middle;\n",
              "    }\n",
              "\n",
              "    .dataframe tbody tr th {\n",
              "        vertical-align: top;\n",
              "    }\n",
              "\n",
              "    .dataframe thead th {\n",
              "        text-align: right;\n",
              "    }\n",
              "</style>\n",
              "<table border=\"1\" class=\"dataframe\">\n",
              "  <thead>\n",
              "    <tr style=\"text-align: right;\">\n",
              "      <th></th>\n",
              "      <th>MonthlyIncome</th>\n",
              "      <th>Age</th>\n",
              "      <th>DistanceFromHome</th>\n",
              "      <th>TotalWorkingYears</th>\n",
              "      <th>YearsInCurrentRole</th>\n",
              "      <th>EnvironmentSatisfaction</th>\n",
              "      <th>StockOptionLevel</th>\n",
              "      <th>PercentSalaryHike</th>\n",
              "    </tr>\n",
              "  </thead>\n",
              "  <tbody>\n",
              "    <tr>\n",
              "      <th>0</th>\n",
              "      <td>3468</td>\n",
              "      <td>27</td>\n",
              "      <td>2</td>\n",
              "      <td>6</td>\n",
              "      <td>2</td>\n",
              "      <td>1</td>\n",
              "      <td>1.0</td>\n",
              "      <td>12</td>\n",
              "    </tr>\n",
              "    <tr>\n",
              "      <th>1</th>\n",
              "      <td>4157</td>\n",
              "      <td>26</td>\n",
              "      <td>23</td>\n",
              "      <td>5</td>\n",
              "      <td>2</td>\n",
              "      <td>3</td>\n",
              "      <td>1.0</td>\n",
              "      <td>19</td>\n",
              "    </tr>\n",
              "    <tr>\n",
              "      <th>2</th>\n",
              "      <td>3690</td>\n",
              "      <td>50</td>\n",
              "      <td>1</td>\n",
              "      <td>5</td>\n",
              "      <td>2</td>\n",
              "      <td>3</td>\n",
              "      <td>1.0</td>\n",
              "      <td>15</td>\n",
              "    </tr>\n",
              "    <tr>\n",
              "      <th>3</th>\n",
              "      <td>5993</td>\n",
              "      <td>41</td>\n",
              "      <td>1</td>\n",
              "      <td>8</td>\n",
              "      <td>4</td>\n",
              "      <td>2</td>\n",
              "      <td>0.0</td>\n",
              "      <td>11</td>\n",
              "    </tr>\n",
              "    <tr>\n",
              "      <th>4</th>\n",
              "      <td>2713</td>\n",
              "      <td>28</td>\n",
              "      <td>21</td>\n",
              "      <td>5</td>\n",
              "      <td>2</td>\n",
              "      <td>3</td>\n",
              "      <td>1.0</td>\n",
              "      <td>11</td>\n",
              "    </tr>\n",
              "    <tr>\n",
              "      <th>...</th>\n",
              "      <td>...</td>\n",
              "      <td>...</td>\n",
              "      <td>...</td>\n",
              "      <td>...</td>\n",
              "      <td>...</td>\n",
              "      <td>...</td>\n",
              "      <td>...</td>\n",
              "      <td>...</td>\n",
              "    </tr>\n",
              "    <tr>\n",
              "      <th>235</th>\n",
              "      <td>2670</td>\n",
              "      <td>59</td>\n",
              "      <td>3</td>\n",
              "      <td>12</td>\n",
              "      <td>0</td>\n",
              "      <td>3</td>\n",
              "      <td>3.0</td>\n",
              "      <td>20</td>\n",
              "    </tr>\n",
              "    <tr>\n",
              "      <th>236</th>\n",
              "      <td>7428</td>\n",
              "      <td>37</td>\n",
              "      <td>3</td>\n",
              "      <td>12</td>\n",
              "      <td>3</td>\n",
              "      <td>3</td>\n",
              "      <td>0.0</td>\n",
              "      <td>12</td>\n",
              "    </tr>\n",
              "    <tr>\n",
              "      <th>237</th>\n",
              "      <td>5163</td>\n",
              "      <td>37</td>\n",
              "      <td>2</td>\n",
              "      <td>17</td>\n",
              "      <td>0</td>\n",
              "      <td>3</td>\n",
              "      <td>1.0</td>\n",
              "      <td>14</td>\n",
              "    </tr>\n",
              "    <tr>\n",
              "      <th>238</th>\n",
              "      <td>2042</td>\n",
              "      <td>44</td>\n",
              "      <td>23</td>\n",
              "      <td>17</td>\n",
              "      <td>2</td>\n",
              "      <td>2</td>\n",
              "      <td>1.0</td>\n",
              "      <td>12</td>\n",
              "    </tr>\n",
              "    <tr>\n",
              "      <th>239</th>\n",
              "      <td>3441</td>\n",
              "      <td>28</td>\n",
              "      <td>5</td>\n",
              "      <td>2</td>\n",
              "      <td>2</td>\n",
              "      <td>3</td>\n",
              "      <td>0.0</td>\n",
              "      <td>13</td>\n",
              "    </tr>\n",
              "  </tbody>\n",
              "</table>\n",
              "<p>240 rows × 8 columns</p>\n",
              "</div>"
            ],
            "text/plain": [
              "     MonthlyIncome  Age  ...  StockOptionLevel  PercentSalaryHike\n",
              "0             3468   27  ...               1.0                 12\n",
              "1             4157   26  ...               1.0                 19\n",
              "2             3690   50  ...               1.0                 15\n",
              "3             5993   41  ...               0.0                 11\n",
              "4             2713   28  ...               1.0                 11\n",
              "..             ...  ...  ...               ...                ...\n",
              "235           2670   59  ...               3.0                 20\n",
              "236           7428   37  ...               0.0                 12\n",
              "237           5163   37  ...               1.0                 14\n",
              "238           2042   44  ...               1.0                 12\n",
              "239           3441   28  ...               0.0                 13\n",
              "\n",
              "[240 rows x 8 columns]"
            ]
          },
          "metadata": {
            "tags": []
          },
          "execution_count": 21
        }
      ]
    },
    {
      "cell_type": "code",
      "metadata": {
        "id": "wj7V4ymy9myW"
      },
      "source": [
        "pred = model.predict(Xnew)"
      ],
      "execution_count": null,
      "outputs": []
    },
    {
      "cell_type": "code",
      "metadata": {
        "colab": {
          "base_uri": "https://localhost:8080/"
        },
        "id": "neEblJDO9pyj",
        "outputId": "758ac873-3bf2-44ad-8feb-47cf08d964a7"
      },
      "source": [
        "pred"
      ],
      "execution_count": null,
      "outputs": [
        {
          "output_type": "execute_result",
          "data": {
            "text/plain": [
              "array([ 2.69129451e-01,  2.62658895e-01,  1.07234135e-01,  1.99749271e-01,\n",
              "        2.81612943e-01,  2.19706056e-01,  2.13046188e-01,  1.85191854e-01,\n",
              "        1.22587248e-01,  2.89034781e-01,  1.98849959e-01,  1.47417306e-01,\n",
              "        3.81164871e-01,  1.71972350e-01, -9.38701391e-02,  3.38860376e-01,\n",
              "        1.84027245e-01,  2.33502809e-01,  2.51861855e-01,  2.66398271e-01,\n",
              "        1.46332039e-01,  2.08889833e-01,  3.20143308e-01,  2.50295165e-01,\n",
              "        2.07275378e-01,  2.87037189e-01,  2.20896998e-01,  2.60413209e-01,\n",
              "        1.53470098e-01,  2.94006424e-01,  2.17218053e-01,  2.41325110e-01,\n",
              "        1.47667380e-01,  1.80492973e-01,  2.53517542e-02,  2.15433691e-01,\n",
              "        9.79419385e-02,  1.86565059e-01,  1.72211809e-01,  4.70877089e-02,\n",
              "        1.34837710e-02,  1.04192303e-01,  1.41426838e-01, -9.25877611e-03,\n",
              "       -5.01922468e-02,  2.14792314e-01,  2.08412377e-01,  1.04496243e-01,\n",
              "        1.95160809e-01,  1.17813888e-01,  1.90757557e-01,  1.45547879e-01,\n",
              "        9.38356850e-02,  2.45914035e-01,  7.28783100e-02,  3.56565917e-01,\n",
              "        4.80229019e-02,  1.33051704e-01,  2.40539334e-01, -4.62236245e-02,\n",
              "        2.91813767e-02,  9.38956146e-02,  8.48980009e-02, -7.32924130e-02,\n",
              "        1.91562889e-02,  2.20935323e-01,  1.96597265e-01,  2.20923239e-02,\n",
              "        6.37534308e-02,  8.81735855e-02,  5.21369366e-02,  3.47449923e-01,\n",
              "       -1.45704015e-01,  1.97051387e-01,  1.82083679e-01,  1.18969332e-01,\n",
              "        2.41464361e-01,  2.12691145e-01,  2.14043414e-01,  3.37651038e-01,\n",
              "        1.47221898e-01,  2.95645195e-01,  1.92012176e-01,  7.35606626e-02,\n",
              "       -6.32714026e-02,  1.25566370e-01,  1.43483478e-01,  1.90324534e-01,\n",
              "        3.72891184e-02,  1.70923647e-03, -8.02702978e-02,  2.23131124e-01,\n",
              "        2.99286145e-02,  2.51908785e-01,  6.81241030e-02,  2.23160505e-01,\n",
              "        2.77927653e-01, -3.21159549e-02,  4.46351727e-01, -1.98059584e-02,\n",
              "        1.94048478e-01,  2.09604215e-01,  2.22517980e-01,  1.28784300e-01,\n",
              "        1.99697494e-01,  2.30386537e-01, -1.78952963e-01,  1.67864795e-01,\n",
              "        2.08663488e-01, -1.06626990e-02,  2.11710162e-01,  1.72984361e-01,\n",
              "        1.39630903e-02,  2.55536199e-01, -4.56393275e-03,  1.42587827e-01,\n",
              "        7.14648952e-02,  1.50218437e-01,  1.88209289e-01,  1.15366440e-01,\n",
              "        1.61768564e-01,  2.00491697e-01,  8.85702728e-02,  6.70682999e-02,\n",
              "        9.83056452e-05,  2.32754336e-01,  1.13248658e-01,  1.44423607e-01,\n",
              "        3.10703502e-01,  5.54171813e-02,  2.32721432e-01,  2.48790913e-01,\n",
              "        1.63288468e-01,  1.06892045e-01,  1.77791195e-01,  2.07078298e-01,\n",
              "        1.08107297e-01,  1.43284449e-01, -6.16040713e-03,  1.56748314e-01,\n",
              "        1.65558268e-01,  1.45209388e-01,  2.55679116e-01,  2.66736870e-01,\n",
              "        3.69552202e-02,  1.03544772e-01,  1.38431787e-01,  2.44825333e-01,\n",
              "        2.18226041e-01,  1.18974566e-02,  1.57987654e-01,  7.83714762e-02,\n",
              "        1.27218781e-01,  2.82298856e-01,  2.79105179e-01,  1.02077789e-01,\n",
              "        2.91546009e-01,  1.42963942e-01,  2.79688660e-01,  2.08070964e-01,\n",
              "        2.05193036e-01,  3.23828377e-01,  1.02519522e-01,  3.14898923e-01,\n",
              "        6.88088339e-02,  1.91544047e-01, -2.06155201e-02,  9.76604512e-02,\n",
              "        3.73542867e-01,  2.78263962e-01,  2.41605339e-01,  1.95103369e-01,\n",
              "        1.18099415e-01,  2.39409746e-01,  1.10500023e-01,  1.42590715e-01,\n",
              "        3.96773587e-02,  1.77139700e-01,  1.54649450e-01, -4.08989089e-02,\n",
              "       -2.56173741e-04, -2.22271593e-02,  2.38247355e-01,  3.03249230e-01,\n",
              "        1.17566455e-01,  1.88884306e-01,  2.14104503e-01,  2.93942167e-01,\n",
              "        2.70488821e-01,  1.69949233e-01,  3.52254721e-01,  3.18385141e-02,\n",
              "        3.42394285e-01,  2.85773093e-01,  4.96782187e-02,  3.03075433e-01,\n",
              "        1.55022118e-01,  6.87487823e-02,  1.26166728e-01,  1.47741564e-01,\n",
              "        1.40751341e-01,  3.30679357e-01,  1.97943827e-01,  1.21347806e-01,\n",
              "        2.34282274e-02,  1.18015580e-01,  1.79902700e-01,  2.70231270e-01,\n",
              "        1.04041139e-01,  2.35928211e-01,  1.62465374e-01,  1.88352614e-01,\n",
              "        1.54088507e-01,  1.36106489e-01,  1.67110232e-01,  1.07336807e-01,\n",
              "        1.66034601e-01,  1.46695932e-01,  2.47867202e-01,  1.37119485e-01,\n",
              "        2.81578055e-01, -4.17696027e-02,  2.24282146e-01,  2.42023457e-01,\n",
              "        1.34077238e-01,  1.99872262e-01,  5.52037737e-02,  2.07432617e-01,\n",
              "        1.30694030e-01,  6.81906174e-02,  2.82192883e-02,  3.38800312e-01,\n",
              "        1.75899202e-01,  2.57140889e-01,  9.71587537e-02, -1.39826530e-02,\n",
              "        1.82386579e-01,  1.59894700e-01,  2.57367548e-01,  2.60913805e-01])"
            ]
          },
          "metadata": {
            "tags": []
          },
          "execution_count": 23
        }
      ]
    },
    {
      "cell_type": "code",
      "metadata": {
        "id": "cbt1TQgF-753"
      },
      "source": [
        "df = pd.DataFrame(pred)\n",
        "df.to_csv('myfile.csv')"
      ],
      "execution_count": null,
      "outputs": []
    }
  ]
}